{
 "cells": [
  {
   "cell_type": "markdown",
   "id": "0",
   "metadata": {},
   "source": [
    "# DLMI Lecture 03"
   ]
  },
  {
   "cell_type": "markdown",
   "id": "1",
   "metadata": {},
   "source": [
    "In this assignment you will implement methods for standardizing the orientation of a medical image."
   ]
  },
  {
   "cell_type": "code",
   "execution_count": null,
   "id": "2",
   "metadata": {},
   "outputs": [],
   "source": [
    "import SimpleITK as sitk\n",
    "import matplotlib.pyplot as plt\n",
    "import numpy as np\n",
    "import time \n",
    "import sys\n",
    "import os "
   ]
  },
  {
   "cell_type": "code",
   "execution_count": null,
   "id": "3",
   "metadata": {},
   "outputs": [],
   "source": [
    "engr_dir = \"/opt/nfsopt/DLMI\"\n",
    "idas_dir = os.path.join(os.path.expanduser('~'), \"classdata\")\n",
    "\n",
    "if os.path.isdir(engr_dir):\n",
    "    data_dir = engr_dir\n",
    "elif os.path.isdir(idas_dir):  \n",
    "    data_dir = idas_dir\n",
    "else:\n",
    "    print(\"Data directory not found\")"
   ]
  },
  {
   "cell_type": "markdown",
   "id": "4",
   "metadata": {},
   "source": [
    "### How to display image in Python"
   ]
  },
  {
   "cell_type": "markdown",
   "id": "5",
   "metadata": {},
   "source": [
    "If the direction cosine matrix is identity, the $ijk$ image coordinate system basis has the same orientation as the $lps$ anatomical coordinate system basis. Therefore:\n",
    "\n",
    "- $i$ : right -> $l$eft axis\n",
    "- $j$ : anterior -> $p$osterior axis\n",
    "- $k$ : inferior -> $s$uperior axis\n",
    "\n",
    "Therefore the anatomical planes are accessed in the following way given SimpleITK image object `im`:\n",
    "\n",
    "- `im[i, :, :]` -> sagittal slice $i$\n",
    "- `im[:, j, :]` -> coronal slice $j$\n",
    "- `im[:, :, k]` -> axial slice $k$\n",
    "\n",
    "This is **ONLY** true if the direction cosine matrix is identity.\n",
    "\n",
    "When a SimpleITK image is converted to a NumPy matrix, the first and last dimensions get permuted. Therefore voxel `[i, j, k]` in a SimpleITK image corresponds to NumPy matrix index `[k, j, i]`. Similarly, accessing the anatomical planes are permuted. Given a NumPy matrix `imnp`:\n",
    "\n",
    "- `im_np[:, :, i]` -> sagittal slice $i$\n",
    "- `im_np[:, j, :]` -> coronal slice $j$\n",
    "- `im_np[k, :, :]` -> axial slice $k$\n",
    "\n",
    "Again, this is only true if the direction cosine matrix is identity. "
   ]
  },
  {
   "cell_type": "markdown",
   "id": "6",
   "metadata": {},
   "source": [
    "Aside: When displaying a NumPy matrix with matplotlib, the `imshow` origin (where the [0,0] index of the array is placed when displaying an image) is by default the top left corner. The matrix will be displayed with the row index (first dimension) increasing downwards and the column index (second dimension) increasing to the right. Although this is not the same convention used for images, everything works out nicely since the first and last dimension of the image were permuted when converting to NumPy. As a result, all the anatomical planes get displayed in the correct orientation. The only exception is the superior/inferior axis. Given an identity direction cosine matrix, the `k` index will increase in the superior direction. Since the `imshow` origin is the top left corner, this will result in the anatomy being displayed upside down in the coronal and sagittal views. In other words, the superior direction is down when it should be up. A simple fix is to set `origin = lower` when displaying coronal and sagittal slices."
   ]
  },
  {
   "cell_type": "markdown",
   "id": "7",
   "metadata": {},
   "source": [
    "### Standardize image orientation"
   ]
  },
  {
   "cell_type": "markdown",
   "id": "8",
   "metadata": {},
   "source": [
    "In this assignment you will work with an image that has a non-identity direction cosine matrix, and you will standardize the image such that it has an identity cosine matrix. This will ensure all images are oriented the same and that we can use the above conventions to consistently access / display the anatomical planes."
   ]
  },
  {
   "cell_type": "markdown",
   "id": "9",
   "metadata": {},
   "source": [
    "First load the following two images in Slicer:\n",
    "- `CTChest_scan1.nii.gz`\n",
    "- `CTChest_scan2.nii.gz`.\n",
    "\n",
    "Both images are sampled from the same underlying function. However, the image coordinate systems defintion with respect to the anatomical coordinate system is different. \n",
    "\n",
    "Do the images appear the same in Slicer? (answer below)."
   ]
  },
  {
   "cell_type": "markdown",
   "id": "10",
   "metadata": {},
   "source": [
    "XXX"
   ]
  },
  {
   "cell_type": "markdown",
   "id": "11",
   "metadata": {},
   "source": [
    "Now read the images using SimpleITK."
   ]
  },
  {
   "cell_type": "code",
   "execution_count": null,
   "id": "12",
   "metadata": {},
   "outputs": [],
   "source": [
    "fn1 = os.path.join(data_dir, \"lecture03\", \"CTChest_scan1.nii.gz\")\n",
    "fn2 = os.path.join(data_dir, \"lecture03\", \"CTChest_scan2.nii.gz\")\n",
    "\n",
    "im1 = sitk.ReadImage(fn1)\n",
    "im2 = sitk.ReadImage(fn2)\n",
    "\n",
    "im1np = sitk.GetArrayFromImage(im1)\n",
    "im2np = sitk.GetArrayFromImage(im2)"
   ]
  },
  {
   "cell_type": "markdown",
   "id": "13",
   "metadata": {},
   "source": [
    "### Part 1"
   ]
  },
  {
   "cell_type": "markdown",
   "id": "14",
   "metadata": {},
   "source": [
    "Complete the function below for displaying a figure with 3 subplots. The subplots should display the axial, coronal, and sagittal views of a 3D image. Your code can assume that the input image will have an identity direction matrix. For credit, your code will need to properly display input images that have non-isotropic voxels. Additionally, the orientation needs to be correctly displayed (should match the orientation in Slicer). Hint: you may need to change the imshow origin for some views, see aside above. Complete the function below by replacing the XXXs with appropriate code."
   ]
  },
  {
   "cell_type": "code",
   "execution_count": null,
   "id": "15",
   "metadata": {},
   "outputs": [],
   "source": [
    "def myshow_multiview(im, slice_inds, min_intensity, max_intensity):\n",
    "    \"\"\"\n",
    "    Displays three inline images corresponding to the anatomical planes froma 3D image.\n",
    "\n",
    "    The input image must be 3D.\n",
    "\n",
    "    Assumes an identity direction cosine matrix!\n",
    "\n",
    "    Inputs:\n",
    "    - im (sitk.Image): SimpleITK image to display\n",
    "    - slice_inds (int, int, int): Tuple with indices of slices to display: (sagittal_ind, coronal_ind, axial_ind)\n",
    "    - min_intensity (int): Minimum display intensity (mapped to black)\n",
    "    - max_intensity (int): Maximum display intensity (mapped to white)\n",
    "\n",
    "    Returns:\n",
    "    \"\"\"\n",
    "    \n",
    "    # Create figure with 3 subplots    \n",
    "    fig, ax = plt.subplots(1,3, figsize = (12,4))\n",
    "\n",
    "    # Convert SimpleITK image to Numpy Array\n",
    "    XXX\n",
    "    \n",
    "    # Display each slice\n",
    "    ax[0].imshow(XXX) # Sagittal slice\n",
    "    ax[1].imshow(XXX) # Coronal slice\n",
    "    ax[2].imshow(XXX) # Axial slice\n",
    "\n",
    "    # Add title to each view\n",
    "    planes = [\"Sagittal\", \"Coronal\", \"Axial\"]\n",
    "    for i,p in enumerate(planes):\n",
    "        ax[i].set_title(p)"
   ]
  },
  {
   "cell_type": "markdown",
   "id": "16",
   "metadata": {},
   "source": [
    "Below, call the `myshow_multiview` function to display `im1`. `im1` is provided as a reference image to check your `myshow_multiview` implementation, as it follows the assumption of having an identify direction cosine matrix. For full credit, the displayed image must match what you obsereve when opening `im1` in Slicer (i.e., aspect ratio and orientation for each view)."
   ]
  },
  {
   "cell_type": "code",
   "execution_count": null,
   "id": "17",
   "metadata": {},
   "outputs": [],
   "source": [
    "######################################\n",
    "#######         TODO           #######\n",
    "######################################"
   ]
  },
  {
   "cell_type": "markdown",
   "id": "18",
   "metadata": {},
   "source": [
    "Naively, try calling the `myshow_multiview` function to display `im2`."
   ]
  },
  {
   "cell_type": "code",
   "execution_count": null,
   "id": "19",
   "metadata": {},
   "outputs": [],
   "source": [
    "######################################\n",
    "#######         TODO           #######\n",
    "######################################"
   ]
  },
  {
   "cell_type": "markdown",
   "id": "20",
   "metadata": {},
   "source": [
    "Compare the three views of `im1` and `im2`. How are they the same or different?"
   ]
  },
  {
   "cell_type": "markdown",
   "id": "21",
   "metadata": {},
   "source": [
    "XXX"
   ]
  },
  {
   "cell_type": "markdown",
   "id": "22",
   "metadata": {},
   "source": [
    "Next, compare the meta data (size, spacing, origin, direction cosine matrix) betewen `im1` and `im2`.\n",
    "Describe the similarities/differences (in the markdown cell below)."
   ]
  },
  {
   "cell_type": "code",
   "execution_count": null,
   "id": "23",
   "metadata": {},
   "outputs": [],
   "source": [
    "######################################\n",
    "#######         TODO           #######\n",
    "######################################"
   ]
  },
  {
   "cell_type": "markdown",
   "id": "24",
   "metadata": {},
   "source": [
    "XXX"
   ]
  },
  {
   "cell_type": "markdown",
   "id": "25",
   "metadata": {},
   "source": [
    "Note: the `GetDirection()` class method, returns a tuple of 9 elements: a vector representing a matrix in row major order. To get the corresponding $3\\times3$ matrix you can convert it to a numpy array, and use the `np.reshape()` function, i.e., `np.array( im.GetDirection() ).reshape(3,3)` given SimpleITK image `im`."
   ]
  },
  {
   "cell_type": "markdown",
   "id": "26",
   "metadata": {},
   "source": [
    "In the remainder of the assignment you wil implement the two approaches for standardizing an image such that the direction cosine matrix is transformed to the identity matrix. \n"
   ]
  },
  {
   "cell_type": "markdown",
   "id": "27",
   "metadata": {},
   "source": [
    "### Part 2"
   ]
  },
  {
   "cell_type": "markdown",
   "id": "28",
   "metadata": {},
   "source": [
    "Implement the more general approach for orientation standardization using `sitk.ResampleImageFilter` as described in Lecture 03. In this approach you should also standardize the spacing to (1,1,1). Apply the method to `im2`. The function should only have a single input - the image to be standardized (`im1` should not be used in the remainder of the assignment)."
   ]
  },
  {
   "cell_type": "code",
   "execution_count": null,
   "id": "29",
   "metadata": {},
   "outputs": [],
   "source": [
    "def standardize_resample(im):\n",
    "    \"\"\"\n",
    "    Standardizes the orientation (identity) and spacing (1mm isotropic) \n",
    "    of an input image using the resampling approach.\n",
    "\n",
    "    Inputs:\n",
    "    - im (sitk.Image): SimpleITK image to standardize\n",
    "\n",
    "    Returns:\n",
    "    - im_stand (sitk.Image): SimpleITK image standardized image\n",
    "    \"\"\"\n",
    "    ######################################\n",
    "    #######         TODO           #######\n",
    "    ######################################\n",
    "\n",
    "    \n",
    "\n",
    "    return im_stand\n",
    "\n",
    "\n",
    "# call function with im2 as input\n",
    "im2_stand_a = standardize_resample(im2)"
   ]
  },
  {
   "cell_type": "markdown",
   "id": "30",
   "metadata": {},
   "source": [
    "Display the 3 views of the standardized `im2` to confirm the expected orientation. Also, print the metadata for the standardized image."
   ]
  },
  {
   "cell_type": "code",
   "execution_count": null,
   "id": "31",
   "metadata": {},
   "outputs": [],
   "source": [
    "######################################\n",
    "#######         TODO           #######\n",
    "######################################"
   ]
  },
  {
   "cell_type": "markdown",
   "id": "32",
   "metadata": {},
   "source": [
    "### Part 3"
   ]
  },
  {
   "cell_type": "markdown",
   "id": "33",
   "metadata": {},
   "source": [
    "Implement the standardization approach which assumes the direction cosine matrix consists of 0 and $\\pm1$. The identity matrix can be achieved by combinations of permutations and/or flips of the (i j k) coordinate system. SimpleITK has a `sitk.PermuteAxes()` and `sitk.Flip()` filter. This can also be accomplished using NumPy functions `np.transpose()` and `np.flip()`, but be sure to consider the NumPy indices are `[k, j, i]`.  "
   ]
  },
  {
   "cell_type": "code",
   "execution_count": null,
   "id": "34",
   "metadata": {},
   "outputs": [],
   "source": [
    "######################################\n",
    "#######         TODO           #######\n",
    "######################################\n",
    "\n",
    "def standardize_permute_flip(im):\n",
    "    \"\"\"\n",
    "    Standardizes the orientation (identity) \n",
    "    of an input image using the permute and flip approach.\n",
    "\n",
    "    Inputs:\n",
    "    - im (sitk.Image): SimpleITK image to standardize\n",
    "\n",
    "    Returns:\n",
    "    - im_stand (sitk.Image): SimpleITK image standardized image\n",
    "    \"\"\"\n",
    "    ######################################\n",
    "    #######         TODO           #######\n",
    "    ######################################\n",
    "\n",
    "    \n",
    "\n",
    "    return im_stand\n",
    "\n",
    "\n",
    "# call function with im2 as input\n",
    "im2_stand_b = standardize_permute_flip(im2)"
   ]
  },
  {
   "cell_type": "markdown",
   "id": "35",
   "metadata": {},
   "source": [
    "Display the 3 views of the standardized image to confirm the expected orientation. Also, print the metadata for the standardized image."
   ]
  },
  {
   "cell_type": "code",
   "execution_count": null,
   "id": "36",
   "metadata": {},
   "outputs": [],
   "source": [
    "######################################\n",
    "#######         TODO           #######\n",
    "######################################"
   ]
  },
  {
   "cell_type": "markdown",
   "id": "37",
   "metadata": {},
   "source": [
    "How do the two methods compare? Do they produce the same or different standardized image? How does the metadata compare to the original image?"
   ]
  },
  {
   "cell_type": "markdown",
   "id": "38",
   "metadata": {},
   "source": [
    "XXX"
   ]
  }
 ],
 "metadata": {
  "kernelspec": {
   "display_name": "Python 3 (ipykernel)",
   "language": "python",
   "name": "python3"
  },
  "language_info": {
   "codemirror_mode": {
    "name": "ipython",
    "version": 3
   },
   "file_extension": ".py",
   "mimetype": "text/x-python",
   "name": "python",
   "nbconvert_exporter": "python",
   "pygments_lexer": "ipython3",
   "version": "3.10.14"
  }
 },
 "nbformat": 4,
 "nbformat_minor": 5
}
