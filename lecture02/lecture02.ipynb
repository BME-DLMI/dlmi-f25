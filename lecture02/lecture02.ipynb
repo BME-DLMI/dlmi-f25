{
 "cells": [
  {
   "cell_type": "markdown",
   "id": "0",
   "metadata": {},
   "source": [
    "# DLMI Lecture 02"
   ]
  },
  {
   "cell_type": "markdown",
   "id": "1",
   "metadata": {},
   "source": [
    "In this assingment you will ressample an image to change the voxel size."
   ]
  },
  {
   "cell_type": "code",
   "execution_count": null,
   "id": "2",
   "metadata": {},
   "outputs": [],
   "source": [
    "import SimpleITK as sitk\n",
    "import matplotlib.pyplot as plt\n",
    "import numpy as np\n",
    "import time \n",
    "import sys\n",
    "import os "
   ]
  },
  {
   "cell_type": "markdown",
   "id": "3",
   "metadata": {},
   "source": [
    "First read the image."
   ]
  },
  {
   "cell_type": "code",
   "execution_count": null,
   "id": "4",
   "metadata": {},
   "outputs": [],
   "source": [
    "engr_dir = \"/opt/nfsopt/DLMI\"\n",
    "idas_dir = os.path.join(os.path.expanduser('~'), \"classdata\")\n",
    "\n",
    "if os.path.isdir(engr_dir):\n",
    "    data_dir = engr_dir\n",
    "elif os.path.isdir(idas_dir):  \n",
    "    data_dir = idas_dir\n",
    "else:\n",
    "    print(\"Data directory not found\")\n",
    "    \n",
    "fn = os.path.join(data_dir, \"lecture02\", \"CTChest.nii.gz\")\n",
    "im = sitk.ReadImage(fn)"
   ]
  },
  {
   "cell_type": "markdown",
   "id": "5",
   "metadata": {},
   "source": [
    "Print the meta data below, what do you notice about spacing and size? Are the voxels isotropic?"
   ]
  },
  {
   "cell_type": "markdown",
   "id": "6",
   "metadata": {},
   "source": [
    "XXX"
   ]
  },
  {
   "cell_type": "markdown",
   "id": "7",
   "metadata": {},
   "source": [
    "Compute the physical extent (mm) of the image."
   ]
  },
  {
   "cell_type": "code",
   "execution_count": null,
   "id": "8",
   "metadata": {},
   "outputs": [],
   "source": [
    "######################################\n",
    "#######         TODO           #######\n",
    "######################################"
   ]
  },
  {
   "cell_type": "markdown",
   "id": "9",
   "metadata": {},
   "source": [
    "Now, display the voxel matrix for a coronal slice in this notebook.  The voxel matrix (without metadata) is all that a neural network is given for input.\n",
    "\n",
    "SimpleITK does not have an inline image viewer, however, we can convert the image to a NumPy array and then use the `imshow` function from the `matplotlib` package.\n",
    "\n",
    "You can try changing the value of `cor_slc` to view different coronal slices."
   ]
  },
  {
   "cell_type": "code",
   "execution_count": null,
   "id": "10",
   "metadata": {},
   "outputs": [],
   "source": [
    "imnp = sitk.GetArrayFromImage(im)\n",
    "cor_slc = 200\n",
    "plt.imshow(imnp[:,cor_slc,:], cmap = 'gray', origin = 'lower')"
   ]
  },
  {
   "cell_type": "markdown",
   "id": "11",
   "metadata": {},
   "source": [
    "Note: in the above figure, axes units are in **voxels**, not physical distance"
   ]
  },
  {
   "cell_type": "markdown",
   "id": "12",
   "metadata": {},
   "source": [
    "Open the same image in Slicer. View the coronal slice (green view). Use this as a reference for how the anatomy should appear (orientation and aspect ratio).  How does the imshow view compare to the Slicer view (answer below)?"
   ]
  },
  {
   "cell_type": "markdown",
   "id": "13",
   "metadata": {},
   "source": [
    "XXX"
   ]
  },
  {
   "cell_type": "markdown",
   "id": "14",
   "metadata": {},
   "source": [
    "Resample the image such that the voxels are 1 mm isotropic (i.e., 1 mm spacing in each dimension).\n",
    "\n",
    "To do this will use the `sitk.ResampleImageFilter`\n",
    "\n",
    "To perform resampling we need to define the output image meta data\n",
    "\n",
    "Recall the field of view (FOV) remains fixed before and after resampling:  \n",
    " \n",
    " $\\mathrm{FOV} = N_\\mathrm{new} \\times \\Delta_\\mathrm{new} = N_\\mathrm{original} \\times \\Delta_\\mathrm{original}$  \n",
    " \n",
    "$N_\\mathrm{original}$ and $\\Delta_\\mathrm{original.}$ are defined from the original input image. We set the desired output spacing $\\Delta_\\mathrm{new} = (1, 1, 1)$. This leaves  $N_\\mathrm{new}$ to be calculated."
   ]
  },
  {
   "cell_type": "markdown",
   "id": "15",
   "metadata": {},
   "source": [
    "First, calculate the output image size $N_\\mathrm{new}$ below:\n",
    "\n",
    "Hint: $N_\\mathrm{new}$ must be a **list of integers**, so you will need to round floating point values."
   ]
  },
  {
   "cell_type": "code",
   "execution_count": null,
   "id": "16",
   "metadata": {},
   "outputs": [],
   "source": [
    "######################################\n",
    "#######         TODO           #######\n",
    "######################################"
   ]
  },
  {
   "cell_type": "markdown",
   "id": "17",
   "metadata": {},
   "source": [
    "Now, create an instance of the `sitk.ResampleImageFilter` class and use the member functions to set the parameters for size, spacing, origin, direction, and interpolator. The resampled image will be stored in the `resampled_im` variable."
   ]
  },
  {
   "cell_type": "code",
   "execution_count": null,
   "id": "18",
   "metadata": {},
   "outputs": [],
   "source": [
    "resample = sitk.ResampleImageFilter()\n",
    "\n",
    "# set size, output spacing, output origin, output direction, and interpolator\n",
    "######################################\n",
    "#######         TODO           #######\n",
    "######################################\n",
    "\n",
    "\n",
    "start_time = time.time()\n",
    "resampled_im = resample.Execute(im)\n",
    "print(\"Resample time : --- %s seconds ---\" % (time.time() - start_time))"
   ]
  },
  {
   "cell_type": "markdown",
   "id": "19",
   "metadata": {},
   "source": [
    "Print the resampled images's metadata below:"
   ]
  },
  {
   "cell_type": "code",
   "execution_count": null,
   "id": "20",
   "metadata": {},
   "outputs": [],
   "source": [
    "######################################\n",
    "#######         TODO           #######\n",
    "######################################"
   ]
  },
  {
   "cell_type": "markdown",
   "id": "21",
   "metadata": {},
   "source": [
    "Display the voxel matrix for a coronal slice of the resampled image using `imshow`. Now that voxel spacing is isotropic, the aspect ratio of the voxel matrix will match that of physical reality. The voxel matrix (without metadata) now provides an accurate representation of the physical object to a neural network."
   ]
  },
  {
   "cell_type": "code",
   "execution_count": null,
   "id": "22",
   "metadata": {},
   "outputs": [],
   "source": [
    "######################################\n",
    "#######         TODO           #######\n",
    "######################################"
   ]
  },
  {
   "cell_type": "markdown",
   "id": "23",
   "metadata": {},
   "source": [
    "Below try resampling using different interpolators and displaying the result.\n",
    "Here are some of the interpolators in SimpleITK:\n",
    "\n",
    "`sitk.sitkNearestNeighbor`  \n",
    "`sitk.sitkLinear`  \n",
    "`sitk.sitkBSpline`  \n",
    "`sitk.sitkGaussian`  \n",
    "`sitk.sitkHammingWindowedSinc`  \n",
    "`sitk.sitkCosineWindowedSinc`  "
   ]
  },
  {
   "cell_type": "code",
   "execution_count": null,
   "id": "24",
   "metadata": {},
   "outputs": [],
   "source": [
    "######################################\n",
    "#######         TODO           #######\n",
    "######################################"
   ]
  },
  {
   "cell_type": "markdown",
   "id": "25",
   "metadata": {},
   "source": [
    "Compare image quality and run time for 3 different interpolators. Describe what you observe."
   ]
  },
  {
   "cell_type": "markdown",
   "id": "26",
   "metadata": {},
   "source": [
    "XXX"
   ]
  },
  {
   "cell_type": "markdown",
   "id": "27",
   "metadata": {},
   "source": [
    "Note: the `imshow` function has `aspect` and `extent` parameters which can be manually specified to correctly visualize images with anisotropic voxels without needing to modify/create a new image. We will explore this is the next lecture."
   ]
  }
 ],
 "metadata": {
  "kernelspec": {
   "display_name": "Python 3 (ipykernel)",
   "language": "python",
   "name": "python3"
  },
  "language_info": {
   "codemirror_mode": {
    "name": "ipython",
    "version": 3
   },
   "file_extension": ".py",
   "mimetype": "text/x-python",
   "name": "python",
   "nbconvert_exporter": "python",
   "pygments_lexer": "ipython3",
   "version": "3.10.14"
  }
 },
 "nbformat": 4,
 "nbformat_minor": 5
}
