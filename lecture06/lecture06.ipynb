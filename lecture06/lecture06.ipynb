{
 "cells": [
  {
   "cell_type": "markdown",
   "id": "0",
   "metadata": {},
   "source": [
    "# Lecture 06"
   ]
  },
  {
   "cell_type": "code",
   "execution_count": null,
   "id": "1",
   "metadata": {},
   "outputs": [],
   "source": [
    "import torch\n",
    "import numpy as np\n",
    "import matplotlib.pyplot as plt\n",
    "from matplotlib import animation\n",
    "from IPython.core.interactiveshell import InteractiveShell\n",
    "InteractiveShell.ast_node_interactivity = \"all\"\n",
    "from IPython import display"
   ]
  },
  {
   "cell_type": "markdown",
   "id": "2",
   "metadata": {},
   "source": [
    "For this in-class we will experiment with optimizers that are commonly used in deep learning systems. We will use a toy 1D function (one parameter), for simplicity and visualiztion purposes. However, note that in practice the functions being optimized have millions of parameters, are very noisy, and can change each iteration. Therefore, use this assignment to gain some intuition on the optimizers and their parameters, however, take any conclusions with a grain of salt. "
   ]
  },
  {
   "cell_type": "markdown",
   "id": "3",
   "metadata": {},
   "source": [
    "We will perform numerical optimization on the following 1D function:\n",
    "\n",
    "$$f(w) = w^4 - 21w^3 + 151w^2 - 435w + 550$$"
   ]
  },
  {
   "cell_type": "code",
   "execution_count": null,
   "id": "4",
   "metadata": {},
   "outputs": [],
   "source": [
    "def f(w):\n",
    "    return 1*w**4 - 21*w**3 + 151*w**2 - 435*w + 550"
   ]
  },
  {
   "cell_type": "markdown",
   "id": "5",
   "metadata": {},
   "source": [
    "In the `utils.py` file, a function called `optimize` is provided to run an optimization loop for a given function and optimizer. Additionally, a function called `save_fig` is provied for saving a GIF of the optimization trajectory."
   ]
  },
  {
   "cell_type": "code",
   "execution_count": null,
   "id": "6",
   "metadata": {},
   "outputs": [],
   "source": [
    "from utils import optimize, save_gif\n",
    "help(optimize)\n",
    "help(save_gif)"
   ]
  },
  {
   "cell_type": "markdown",
   "id": "7",
   "metadata": {},
   "source": [
    "First, perform optimization using the stochastic gradient descent (SGD) optimizer. For SGD the only parameter to tune is the learning rate (`lr`). Experiment with different learning rate values below. "
   ]
  },
  {
   "cell_type": "code",
   "execution_count": null,
   "id": "8",
   "metadata": {},
   "outputs": [],
   "source": [
    "w = torch.nn.Parameter(torch.ones(1))\n",
    "w.requires_grad = True\n",
    "\n",
    "######################################\n",
    "#######         TODO           #######\n",
    "######################################\n",
    "optimizer = torch.optim.SGD([w], lr = XXX)\n",
    "\n",
    "ws,fs = optimize(f, optimizer)\n",
    "anim = save_gif(f, ws, fs, \"sgd.gif\")"
   ]
  },
  {
   "cell_type": "markdown",
   "id": "9",
   "metadata": {},
   "source": [
    "The above plot only shows the final state of the optimization. The previous cell saved a GIF of the full trajectory to the current working directory, which you can open using the file browser. Alternatively, for convenience, you can use the code below to display an inline gif. **NOTE** if the gif is running when you try to save the notebook as a PDF, you will get an error. After you are done expiermenting and ready to save, right click on the cell below and select \"Clear Cell Output\""
   ]
  },
  {
   "cell_type": "code",
   "execution_count": null,
   "id": "10",
   "metadata": {},
   "outputs": [],
   "source": [
    "# inline gif display\n",
    "gifPath = \"sgd.gif\" \n",
    "with open(gifPath,'rb') as myfile:\n",
    "    display.Image(data=myfile.read(), format='png')"
   ]
  },
  {
   "cell_type": "markdown",
   "id": "11",
   "metadata": {},
   "source": [
    "Which values of `lr` work the best? What happens if `lr` is too small? Too large? Does SGD find the global minimum?"
   ]
  },
  {
   "cell_type": "markdown",
   "id": "12",
   "metadata": {},
   "source": [
    "XXX"
   ]
  },
  {
   "cell_type": "markdown",
   "id": "13",
   "metadata": {},
   "source": [
    "Next try the SGD + momentum optimizer. SGD + momentum is implemented in the `torch.optim.SGD` class by setting the `momentum` parameter to a value greater than 0 (default is 0, corresponding to vanilla SGD which was used in the previous optimization). Experiment with different combinations of learning rate (lr) and momentum."
   ]
  },
  {
   "cell_type": "code",
   "execution_count": null,
   "id": "14",
   "metadata": {},
   "outputs": [],
   "source": [
    "w = torch.nn.Parameter(torch.ones(1))\n",
    "w.requires_grad = True\n",
    "\n",
    "######################################\n",
    "#######         TODO           #######\n",
    "######################################\n",
    "optimizer = torch.optim.SGD([w], lr = XXX, momentum = XXX)\n",
    "\n",
    "ws,fs = optimize(f, optimizer)\n",
    "anim = save_gif(f, ws, fs, \"momentum.gif\")"
   ]
  },
  {
   "cell_type": "markdown",
   "id": "15",
   "metadata": {},
   "source": [
    "Display inline GIF of SGD + momentum optimization trajectory"
   ]
  },
  {
   "cell_type": "code",
   "execution_count": null,
   "id": "16",
   "metadata": {},
   "outputs": [],
   "source": [
    "# inline gif display\n",
    "gifPath = \"momentum.gif\" \n",
    "with open(gifPath,'rb') as myfile:\n",
    "    display.Image(data=myfile.read(), format='png')"
   ]
  },
  {
   "cell_type": "markdown",
   "id": "17",
   "metadata": {},
   "source": [
    "Which values of `lr` work the best? What happens if `lr` is too small or too large?\n",
    "Which values of `momentum` work the best? What happens if `momentum` is too small or too large?\n",
    "Does the optimization reach a global minimum?"
   ]
  },
  {
   "cell_type": "markdown",
   "id": "18",
   "metadata": {},
   "source": [
    "XXX"
   ]
  },
  {
   "cell_type": "markdown",
   "id": "19",
   "metadata": {},
   "source": [
    "Last, perform optimization using the Adam optimizer. Experiment with the learning rate (`lr`) and coefficients used for computing running averages of gradient and its square (`betas`: tuple of 2 elements)"
   ]
  },
  {
   "cell_type": "code",
   "execution_count": null,
   "id": "20",
   "metadata": {},
   "outputs": [],
   "source": [
    "w = torch.nn.Parameter(torch.ones(1))\n",
    "w.requires_grad = True\n",
    "\n",
    "######################################\n",
    "#######         TODO           #######\n",
    "######################################\n",
    "optimizer = torch.optim.Adam([w], lr = XXX, betas=(XXX, XXX))\n",
    "\n",
    "ws,fs = optimize(f, optimizer)\n",
    "anim = save_gif(f, ws, fs, \"adam.gif\")"
   ]
  },
  {
   "cell_type": "markdown",
   "id": "21",
   "metadata": {},
   "source": [
    "Display inline GIF of Adam optimization trajectory"
   ]
  },
  {
   "cell_type": "code",
   "execution_count": null,
   "id": "22",
   "metadata": {},
   "outputs": [],
   "source": [
    "# inline gif display\n",
    "gifPath = \"adam.gif\" \n",
    "with open(gifPath,'rb') as myfile:\n",
    "    display.Image(data=myfile.read(), format='png')"
   ]
  },
  {
   "cell_type": "markdown",
   "id": "23",
   "metadata": {},
   "source": [
    "Which values of lr work the best? Which vaues of betas work the best? Does Adam reach a global minimum?"
   ]
  },
  {
   "cell_type": "markdown",
   "id": "24",
   "metadata": {},
   "source": [
    "XXX"
   ]
  },
  {
   "cell_type": "markdown",
   "id": "25",
   "metadata": {},
   "source": [
    "Compare and contrast the 3 optimizers used in this assignment. How are the trajectories the same vs. different? "
   ]
  },
  {
   "cell_type": "markdown",
   "id": "26",
   "metadata": {},
   "source": [
    "XXX"
   ]
  },
  {
   "cell_type": "markdown",
   "id": "27",
   "metadata": {},
   "source": [
    "# Submit"
   ]
  },
  {
   "cell_type": "markdown",
   "id": "28",
   "metadata": {},
   "source": [
    "Save a PDF and submit to ICON. **NOTE** the notebook cannot be exported as a PDF with the inline GIFs playing. Clear the output of each of the 3 cells that have inline GIFs (cells that start wtih  `# inline gif display`), then proceed with exporting as PDF.\n",
    "\n",
    "Add, commit, push to your lecture git repo."
   ]
  },
  {
   "cell_type": "code",
   "execution_count": null,
   "id": "29",
   "metadata": {},
   "outputs": [],
   "source": []
  }
 ],
 "metadata": {
  "kernelspec": {
   "display_name": "Python 3 (ipykernel)",
   "language": "python",
   "name": "python3"
  },
  "language_info": {
   "codemirror_mode": {
    "name": "ipython",
    "version": 3
   },
   "file_extension": ".py",
   "mimetype": "text/x-python",
   "name": "python",
   "nbconvert_exporter": "python",
   "pygments_lexer": "ipython3",
   "version": "3.10.14"
  }
 },
 "nbformat": 4,
 "nbformat_minor": 5
}
