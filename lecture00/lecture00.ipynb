{
 "cells": [
  {
   "cell_type": "markdown",
   "id": "0",
   "metadata": {
    "jp-MarkdownHeadingCollapsed": true
   },
   "source": [
    "# DLMI Lecture 00"
   ]
  },
  {
   "cell_type": "markdown",
   "id": "1",
   "metadata": {},
   "source": [
    "# Jupyter Notebooks"
   ]
  },
  {
   "cell_type": "markdown",
   "id": "2",
   "metadata": {},
   "source": [
    "Jupyter notebooks will be used to complete in-class assignments. A Jupyter notebook consists of a collection of cells. There are two main type of cells: `Code` cells and `Markdown` cell. The current cell is a `Markdown` cell. To edit a `Markdown` cell double click the cell. The `Code` cells will contain Python code. To execute a cell click in the cell and press `Shift-Enter`. When `Code` cells are executed the code will run and the output will display below the cell. When `Markdown` cells are run, the formatted text is displayed in the cell. To edit a cell, click in the cell area (double click for `Markdown` cells). Try running the cell below. "
   ]
  },
  {
   "cell_type": "code",
   "execution_count": null,
   "id": "3",
   "metadata": {},
   "outputs": [],
   "source": [
    "a = 2\n",
    "print(a)"
   ]
  },
  {
   "cell_type": "markdown",
   "id": "4",
   "metadata": {},
   "source": [
    "Variables are shared between cells within a notebook. Try executing the cell below:"
   ]
  },
  {
   "cell_type": "code",
   "execution_count": null,
   "id": "5",
   "metadata": {},
   "outputs": [],
   "source": [
    "b = 10 * a\n",
    "print(b)"
   ]
  },
  {
   "cell_type": "markdown",
   "id": "6",
   "metadata": {},
   "source": [
    "To restart a notebook and clear all cells click `Kernel -> Restart & Clear Output`. If you don't want to clear cell outputs, click `Kernel -> Restart`.\n",
    "\n",
    "By convention, Jupyter notebooks are expected to be run from top to bottom. Failing to execute some cells or executing cells out of order can result in errors. After restarting the notebook, try running the `b = 10 * a` cell above. What happens?\n",
    "\n",
    "After you have modified a Jupyter notebook for one of the assignments by modifying or executing some of its cells, remember to save your changes! You can save with the `Command/Control + s` shortcut or by clicking `File -> Save and Checkpoint`."
   ]
  },
  {
   "cell_type": "markdown",
   "id": "7",
   "metadata": {},
   "source": [
    "# Environment"
   ]
  },
  {
   "cell_type": "markdown",
   "id": "8",
   "metadata": {},
   "source": [
    "The purpose of this assingment is to make sure you have everything set up for the semester: a GitHub account, your DLMI git repository, anaconda, and your python environment. The cell below will import some libraries and print their versions to test if your environment is correct:"
   ]
  },
  {
   "cell_type": "code",
   "execution_count": null,
   "id": "9",
   "metadata": {},
   "outputs": [],
   "source": [
    "import numpy\n",
    "import matplotlib\n",
    "import torch\n",
    "import SimpleITK\n",
    "print(\"numpy: {}\".format(numpy.__version__))\n",
    "print(\"matplotlib: {}\".format(matplotlib.__version__))\n",
    "print(\"torch: {}\".format(torch.__version__))\n",
    "print(\"SimpleITK: {}\".format(SimpleITK.__version__))"
   ]
  },
  {
   "cell_type": "markdown",
   "id": "10",
   "metadata": {},
   "source": [
    "Now test if CUDA is available to PyTorch. The cell below should print `cuda` on a computer with an Nvidia graphics card and CUDA installed."
   ]
  },
  {
   "cell_type": "code",
   "execution_count": null,
   "id": "11",
   "metadata": {},
   "outputs": [],
   "source": [
    "if torch.cuda.is_available():\n",
    "    device = torch.device('cuda')\n",
    "elif torch.backends.mps.is_available():\n",
    "    device = torch.device('mps')\n",
    "else:\n",
    "    device = torch.device('cpu')\n",
    "print(device)"
   ]
  },
  {
   "cell_type": "markdown",
   "id": "12",
   "metadata": {},
   "source": [
    "Compare runtime of matrix multiplication on GPU (cuda) vs CPU:"
   ]
  },
  {
   "cell_type": "code",
   "execution_count": null,
   "id": "13",
   "metadata": {},
   "outputs": [],
   "source": [
    "import time\n",
    "\n",
    "torch.manual_seed(1234)\n",
    "TENSOR_A_CPU = torch.rand(5000, 5000)\n",
    "TENSOR_B_CPU = torch.rand(5000, 5000)\n",
    "\n",
    "torch.manual_seed(1234)\n",
    "TENSOR_A_MPS = torch.rand(5000, 5000).to(device)\n",
    "TENSOR_B_MPS = torch.rand(5000, 5000).to(device)\n",
    "\n",
    "# Warm-up\n",
    "for _ in range(100):\n",
    "    torch.matmul(torch.rand(500,500).to(device), torch.rand(500,500).to(device))\n",
    "    \n",
    "start_time = time.time()\n",
    "torch.matmul(TENSOR_A_CPU, TENSOR_B_CPU)\n",
    "print(\"CPU : --- %s seconds ---\" % (time.time() - start_time))\n",
    "\n",
    "start_time = time.time()\n",
    "torch.matmul(TENSOR_A_MPS, TENSOR_B_MPS)\n",
    "print(\"GPU : --- %s seconds ---\" % (time.time() - start_time))"
   ]
  },
  {
   "cell_type": "markdown",
   "id": "14",
   "metadata": {},
   "source": [
    "Bash commands can be run from `Code` cells by proceeding the command with an `!`. Some useful commands are shown below.\n"
   ]
  },
  {
   "cell_type": "markdown",
   "id": "15",
   "metadata": {},
   "source": [
    "Monitor Nvidia card usage:"
   ]
  },
  {
   "cell_type": "code",
   "execution_count": null,
   "id": "16",
   "metadata": {},
   "outputs": [],
   "source": [
    "!nvidia-smi"
   ]
  },
  {
   "cell_type": "markdown",
   "id": "17",
   "metadata": {},
   "source": [
    "Print working directory"
   ]
  },
  {
   "cell_type": "code",
   "execution_count": null,
   "id": "18",
   "metadata": {},
   "outputs": [],
   "source": [
    "!pwd"
   ]
  },
  {
   "cell_type": "markdown",
   "id": "19",
   "metadata": {},
   "source": [
    "List files in current directory:"
   ]
  },
  {
   "cell_type": "code",
   "execution_count": null,
   "id": "20",
   "metadata": {},
   "outputs": [],
   "source": [
    "!ls"
   ]
  },
  {
   "cell_type": "markdown",
   "id": "21",
   "metadata": {},
   "source": [
    "# Submitting in-class assignments"
   ]
  },
  {
   "cell_type": "markdown",
   "id": "22",
   "metadata": {},
   "source": [
    "In-class assignments are intended to be completed by the end of class. You will need to submit a PDF version of the notebook to ICON **AND** commit the notebook to your git repository. \n",
    "\n",
    "1. **Create PDF of notebook**\n",
    "\n",
    "   Ensure all cells are executed, such that the outputs are displayed, then click `File -> Save and Export Notebook As -> PDF`. Alternatively, you can do this from the command line using the `jupyter-nbconvert` program. If the saved notebook already has the cells executed, run the following from the command line:\n",
    "\n",
    "   `jupyter-nbconvert --to pdf  lecture00/lecture00.ipynb`\n",
    "\n",
    "   To run the cells and then save the PDF include the `--execute` flag:\n",
    "\n",
    "   `jupyter-nbconvert --execute --to pdf  lecture00/lecuture00.ipynb`\n",
    "\n",
    "   This will create a PDF at lecture00/lecture00.pdf Upload the PDF to ICON.\n",
    "\n",
    "\n",
    "3. **Push notebook to git repository**\n",
    "\n",
    "   After PDF is created, submit the inclass00/inclass00.ipynb to git. Only add the ipynb file, do **not** add the PDF. **Warning**: a pre-commit hook will run and clear the output cells to prevent submitting a large notebook to your git repository. \n",
    "\n",
    "   `git add lecture00/lecture00.ipynb`\n",
    "\n",
    "   `git commit -m \"commit message\"`\n",
    "\n",
    "   At this point the pre-commit hooks will execute, if any any changes are made you will need to repeat the git add followed by git commit. Finally remember to push change to your remote repository:\n",
    "\n",
    "   `git push`"
   ]
  }
 ],
 "metadata": {
  "kernelspec": {
   "display_name": "Python 3 (ipykernel)",
   "language": "python",
   "name": "python3"
  },
  "language_info": {
   "codemirror_mode": {
    "name": "ipython",
    "version": 3
   },
   "file_extension": ".py",
   "mimetype": "text/x-python",
   "name": "python",
   "nbconvert_exporter": "python",
   "pygments_lexer": "ipython3",
   "version": "3.11.5"
  }
 },
 "nbformat": 4,
 "nbformat_minor": 5
}
