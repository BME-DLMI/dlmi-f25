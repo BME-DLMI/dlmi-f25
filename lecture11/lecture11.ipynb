{
 "cells": [
  {
   "cell_type": "markdown",
   "id": "0",
   "metadata": {},
   "source": [
    "# Lecture10"
   ]
  },
  {
   "cell_type": "markdown",
   "id": "1",
   "metadata": {},
   "source": [
    "The purpose of this assignment is to gain intuition on convolution and how various kernels interact with images. Note: technically we will be using cross-correlation but we will still use the convolution terminolgy. "
   ]
  },
  {
   "cell_type": "code",
   "execution_count": null,
   "id": "2",
   "metadata": {},
   "outputs": [],
   "source": [
    "import SimpleITK as sitk\n",
    "import numpy as np\n",
    "import torch\n",
    "import os\n",
    "import utils\n",
    "import matplotlib.pyplot as plt"
   ]
  },
  {
   "cell_type": "code",
   "execution_count": null,
   "id": "3",
   "metadata": {},
   "outputs": [],
   "source": [
    "if torch.backends.mps.is_available():\n",
    "    print(\"MPS is available.\")\n",
    "    device = torch.device(\"mps\")\n",
    "elif torch.cuda.is_available():\n",
    "    print(\"CUDA is available.\")\n",
    "    device = torch.device(\"cuda\")\n",
    "else:\n",
    "    print(\"Using CPU\")\n",
    "    device = torch.device(\"cpu\")\n",
    "\n",
    "\n",
    "engr_dir = \"/opt/nfsopt/DLMI\"\n",
    "idas_dir = os.path.join(os.path.expanduser('~'), \"classdata\")\n",
    "\n",
    "if os.path.isdir(engr_dir):\n",
    "    data_dir = engr_dir\n",
    "elif os.path.isdir(idas_dir):  \n",
    "    data_dir = idas_dir\n",
    "else:\n",
    "    print(\"Data directory not found\")"
   ]
  },
  {
   "cell_type": "markdown",
   "id": "4",
   "metadata": {},
   "source": [
    "## Part 1"
   ]
  },
  {
   "cell_type": "markdown",
   "id": "5",
   "metadata": {},
   "source": [
    "A brain MRI image will be used in this assingment. First load the image:"
   ]
  },
  {
   "cell_type": "code",
   "execution_count": null,
   "id": "6",
   "metadata": {},
   "outputs": [],
   "source": [
    "fn = os.path.join(data_dir, \"MRHead.nii.gz\")\n",
    "\n",
    "im = sitk.ReadImage(fn)"
   ]
  },
  {
   "cell_type": "markdown",
   "id": "7",
   "metadata": {},
   "source": [
    "Next view the image, using the `myshow_mutliview` function defined in the `utils.py` file. This function assumes images have identity direction cosine matrix. The original image does not have identity direction cosine matrix, so first we will standardize the orientation using the `standardize_orientation` function defined in `utils.py` "
   ]
  },
  {
   "cell_type": "code",
   "execution_count": null,
   "id": "8",
   "metadata": {},
   "outputs": [],
   "source": [
    "im_stand = utils.standardize_orientation(im)\n",
    "utils.myshow_multiview(im_stand, [40,140,160], 0, 100)\n",
    "\n",
    "print(\"Image Size: {}\".format(im_stand.GetSize()))\n",
    "print(\"Image Spacing: {}\".format(im_stand.GetSpacing()))\n",
    "print(\"Image Direction: {}\".format(im_stand.GetDirection()))"
   ]
  },
  {
   "cell_type": "markdown",
   "id": "9",
   "metadata": {},
   "source": [
    "Next we will perform image convolution between the image and a hand crafted kernel. For efficiency and interpretability, we will perform 2D convolution on individual slices, rather than 3D convolution.  \n",
    "\n",
    "We will use the PyTorch layer called `torch.nn.Conv2d` to perform 2D image convolution. The PyTorch implementation assumes the input image and kernel have rank 4 (batch, channel, spatial, spatial) - we will learn more about the first two dimensions in future lectures, for now we will just add 2 dummy dimensions (dimensions with size 1) to our 2D image. Similarly, we will need to add 2 dummy dimensions to our hand crafted kernels. The `myconv2d` function defined below handles this conversion to proper rank, creates an instance of `torch.nn.Conv2d`, and performs convolution.\n"
   ]
  },
  {
   "cell_type": "code",
   "execution_count": null,
   "id": "10",
   "metadata": {},
   "outputs": [],
   "source": [
    "def myconv2d(im, kernel):\n",
    "    \"\"\"\n",
    "    Performs image convolution. \n",
    "\n",
    "    The input image must be a 2D matrix.\n",
    "\n",
    "    Inputs:\n",
    "    - im (np.array): Input image represented as a numpy array with rank 2\n",
    "    - kernel (np.array): Kernel represented as a numpy array with rank 2\n",
    "\n",
    "    Returns:\n",
    "    - act_np (np.array): Result of convolving the im with kernel.\n",
    "    \"\"\"\n",
    "    # to float 32\n",
    "    im = im.astype(np.float32)\n",
    "    kernel = kernel.astype(np.float32)\n",
    "    \n",
    "    # convert to pytorch tensor\n",
    "    im_tensor = torch.from_numpy(im).to(device)\n",
    "    kernel_tensor = torch.from_numpy(kernel).to(device)\n",
    "    \n",
    "    # add 2 dummy dims to create rank 4 tensors\n",
    "    im_tensor = im_tensor.unsqueeze(0).unsqueeze(0)\n",
    "    kernel_tensor = kernel_tensor.unsqueeze(0).unsqueeze(0)\n",
    "\n",
    "    # create instance of conv layer\n",
    "    conv_layer = torch.nn.Conv2d(in_channels=1, out_channels=1, kernel_size=3, bias=False)\n",
    "\n",
    "    # note the below is specific to using the conv2d layer with fixed hand-crafted kernels\n",
    "    # this will not typically be done when training a CNN\n",
    "    with torch.no_grad():\n",
    "        conv_layer.weight.copy_(kernel_tensor)\n",
    "    conv_layer.weight.requires_grad = False\n",
    "    \n",
    "    # peforms convolution (calls forward method)\n",
    "    act = conv_layer(im_tensor)\n",
    "    \n",
    "    # remove dummy dims, back to numpy\n",
    "    act_np = act.squeeze().cpu().detach().numpy()\n",
    "\n",
    "    return act_np"
   ]
  },
  {
   "cell_type": "markdown",
   "id": "11",
   "metadata": {},
   "source": [
    "<br>\n",
    " \n",
    "Create a handcrafted kernel and convolve it with the brain MRI image. First, use the following $3\\times3$ kernel:\n",
    "\n",
    "\\begin{matrix}\n",
    "1 & 2 & 1\\\\\n",
    "0 & 0 & 0\\\\\n",
    "-1 & -2 & -1\n",
    "\\end{matrix}\n",
    "\n",
    "Create the kernel as a numpy array, and visualize it using `imshow`:"
   ]
  },
  {
   "cell_type": "code",
   "execution_count": null,
   "id": "12",
   "metadata": {},
   "outputs": [],
   "source": [
    "kernel = np.array([[1,2,1],\n",
    "                   [0,0,0],\n",
    "                   [-1,-2,-1]])\n",
    "\n",
    "fig, ax = plt.subplots(figsize = (2,2))\n",
    "ax.imshow(kernel, cmap=plt.cm.RdBu)\n",
    "ax.axis('off')"
   ]
  },
  {
   "cell_type": "markdown",
   "id": "13",
   "metadata": {},
   "source": [
    "<br>\n",
    "\n",
    "Predict what will the output look like if the above kernel is convolved (cross-correlated) with the brain MRI image?\n",
    "\n",
    "What types of features will be correlated? Negatively correlated?"
   ]
  },
  {
   "cell_type": "markdown",
   "id": "14",
   "metadata": {},
   "source": [
    "XXX"
   ]
  },
  {
   "cell_type": "markdown",
   "id": "15",
   "metadata": {},
   "source": [
    "Pick a slice and perfom the convolution by calling the `myconv2d` function. You can try different slices by changing the `slc` value (make sure it is a valid slice)."
   ]
  },
  {
   "cell_type": "code",
   "execution_count": null,
   "id": "16",
   "metadata": {},
   "outputs": [],
   "source": [
    "slc = 160\n",
    "imnp = sitk.GetArrayFromImage(im_stand)\n",
    "imnp_ax = imnp[slc,:,:]\n",
    "im_conv = myconv2d(imnp_ax, kernel)"
   ]
  },
  {
   "cell_type": "markdown",
   "id": "17",
   "metadata": {},
   "source": [
    "Visualize the output of the convolution below:"
   ]
  },
  {
   "cell_type": "code",
   "execution_count": null,
   "id": "18",
   "metadata": {},
   "outputs": [],
   "source": [
    "fig, axs = plt.subplots(1,2, figsize = (8,4))\n",
    "spac = im_stand.GetSpacing()\n",
    "size = im_stand.GetSize()\n",
    "im_disp = axs[0].imshow(imnp_ax, cmap='gray', aspect = spac[1]/spac[0], vmin = 0, vmax = 100)\n",
    "out_disp = axs[1].imshow(im_conv, cmap=plt.cm.RdBu, aspect = spac[1]/spac[0])\n",
    "fig.colorbar(im_disp, label=\"Intensity\",ax = axs[0])\n",
    "fig.colorbar(out_disp, label=\"Intensity\",ax = axs[1])\n",
    "for ax in axs:\n",
    "    ax.axis('off')"
   ]
  },
  {
   "cell_type": "markdown",
   "id": "19",
   "metadata": {},
   "source": [
    "<br>\n",
    "\n",
    "Discuss what you observe. What image features show the strongest positive correlation? The strongest negative correlation? No correlation?"
   ]
  },
  {
   "cell_type": "markdown",
   "id": "20",
   "metadata": {},
   "source": [
    "XXX"
   ]
  },
  {
   "cell_type": "markdown",
   "id": "21",
   "metadata": {},
   "source": [
    "## Part 2"
   ]
  },
  {
   "cell_type": "markdown",
   "id": "22",
   "metadata": {},
   "source": [
    "Next, load the `MRHead_conv_slc_160.npy` array and visualize using `imshow`."
   ]
  },
  {
   "cell_type": "code",
   "execution_count": null,
   "id": "23",
   "metadata": {},
   "outputs": [],
   "source": [
    "fn = os.path.join(data_dir, \"MRHead_conv_slc_160.npy\")\n",
    "\n",
    "im_mystery = np.load(fn)\n",
    "\n",
    "fig, ax = plt.subplots(figsize = (4,4))\n",
    "disp = ax.imshow(im_mystery, cmap=plt.cm.RdBu, aspect = spac[1]/spac[0])\n",
    "fig.colorbar(disp, label=\"Intensity\",ax = ax)\n",
    "ax.axis('off')"
   ]
  },
  {
   "cell_type": "markdown",
   "id": "24",
   "metadata": {},
   "source": [
    "The above image is the result of convolving an axial slice (slice index 160) of the brain MRI image with an unknown $3\\times3$ kernel. Next, you will try to reproduce the above image by designing a kernel and convolving it with the brain MRI image. The `mse` function (defined in `utils.py`) will be used to quantify the mean squared error between your convolved image and the target image (`im_mystery`). You will need to design the filter, visualize the filter, convolve the kernel with the image, visualize the result, compute the error with your image and the target image. \n"
   ]
  },
  {
   "cell_type": "code",
   "execution_count": null,
   "id": "25",
   "metadata": {},
   "outputs": [],
   "source": [
    "######################################\n",
    "#######         TODO           #######\n",
    "######################################\n",
    "\n",
    "# create and visualize the kernel\n"
   ]
  },
  {
   "cell_type": "code",
   "execution_count": null,
   "id": "26",
   "metadata": {},
   "outputs": [],
   "source": [
    "######################################\n",
    "#######         TODO           #######\n",
    "######################################\n",
    "\n",
    "# convolve with brain MRI and visualize result\n"
   ]
  },
  {
   "cell_type": "code",
   "execution_count": null,
   "id": "27",
   "metadata": {},
   "outputs": [],
   "source": [
    "error = utils.mse(im_mystery, im_test)\n",
    "print(\"MSE: {:.2f}\".format(error))"
   ]
  },
  {
   "cell_type": "markdown",
   "id": "28",
   "metadata": {},
   "source": [
    "Modify your kernel, and repeat until you are satisfied with your error. For reference, `im_conv` (the image produced in part 1) and `im_mystery` have a MSE of 15519.02, try to get a better MSE than this. "
   ]
  },
  {
   "cell_type": "markdown",
   "id": "29",
   "metadata": {},
   "source": [
    "**Foreshadow:** when trainng a convolutional neural network, the kernel values are generally not explicitly set (hand-crafted) like in this assignment. Rather, the kernel values are the **learnable parameters** that are initalized randomly and optimized through training. "
   ]
  },
  {
   "cell_type": "markdown",
   "id": "30",
   "metadata": {},
   "source": [
    "Save a PDF of the document to upload to ICON and then add/commit/push to your git repository."
   ]
  }
 ],
 "metadata": {
  "kernelspec": {
   "display_name": "Python 3 (ipykernel)",
   "language": "python",
   "name": "python3"
  },
  "language_info": {
   "codemirror_mode": {
    "name": "ipython",
    "version": 3
   },
   "file_extension": ".py",
   "mimetype": "text/x-python",
   "name": "python",
   "nbconvert_exporter": "python",
   "pygments_lexer": "ipython3",
   "version": "3.10.14"
  }
 },
 "nbformat": 4,
 "nbformat_minor": 5
}
